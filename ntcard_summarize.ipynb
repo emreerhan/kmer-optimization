{
 "cells": [
  {
   "cell_type": "code",
   "execution_count": 13,
   "metadata": {
    "collapsed": true
   },
   "outputs": [],
   "source": [
    "import pandas as pd"
   ]
  },
  {
   "cell_type": "code",
   "execution_count": 14,
   "metadata": {
    "collapsed": false,
    "scrolled": true
   },
   "outputs": [],
   "source": [
    "root = '/projects/btl/eerhan/simulated_data/ecoli'\n",
    "#files = ['freq_k128.hist', 'freq_k32.hist', 'freq_k42.hist', 'freq_k54.hist', 'freq_k64.hist', 'freq_k72.hist', 'freq_k84.hist', 'freq_k96.hist',\n",
    "#'freq_k30.hist', 'freq_k36.hist', 'freq_k48.hist', 'freq_k60.hist', 'freq_k66.hist', 'freq_k78.hist', 'freq_k90.hist']\n",
    "ntcard_data = pd.DataFrame(dtype=np.float64)\n",
    "for read in reads:\n",
    "    read_dir = read[4:]\n",
    "    k = read[:3]\n",
    "    ntcard_path = \"{}/{}/ntcard/freq_{}.hist\".format(root, read_dir, k)\n",
    "    temp = pd.read_csv(ntcard_path, sep='\\t', index_col=0, header=None, names=[\"{}_{}\".format(k, read_dir)])\n",
    "    ntcard_data[\"{}_{}\".format(k, read_dir)] = temp[\"{}_{}\".format(k, read_dir)]\n"
   ]
  },
  {
   "cell_type": "code",
   "execution_count": 15,
   "metadata": {
    "collapsed": false
   },
   "outputs": [
    {
     "data": {
      "text/html": [
       "<div>\n",
       "<table border=\"1\" class=\"dataframe\">\n",
       "  <thead>\n",
       "    <tr style=\"text-align: right;\">\n",
       "      <th></th>\n",
       "      <th>F1</th>\n",
       "      <th>F0</th>\n",
       "      <th>f1</th>\n",
       "      <th>f2</th>\n",
       "      <th>f3</th>\n",
       "      <th>f4</th>\n",
       "      <th>f5</th>\n",
       "      <th>f6</th>\n",
       "      <th>f7</th>\n",
       "      <th>f8</th>\n",
       "      <th>...</th>\n",
       "      <th>f291</th>\n",
       "      <th>f292</th>\n",
       "      <th>f293</th>\n",
       "      <th>f294</th>\n",
       "      <th>f295</th>\n",
       "      <th>f296</th>\n",
       "      <th>f297</th>\n",
       "      <th>f298</th>\n",
       "      <th>f299</th>\n",
       "      <th>f300</th>\n",
       "    </tr>\n",
       "  </thead>\n",
       "  <tbody>\n",
       "    <tr>\n",
       "      <th>k36_ecoli_50X_600m_9</th>\n",
       "      <td>71171200</td>\n",
       "      <td>12460197</td>\n",
       "      <td>7841909</td>\n",
       "      <td>63089</td>\n",
       "      <td>11307</td>\n",
       "      <td>26317</td>\n",
       "      <td>51417</td>\n",
       "      <td>94252</td>\n",
       "      <td>144509</td>\n",
       "      <td>210710</td>\n",
       "      <td>...</td>\n",
       "      <td>0</td>\n",
       "      <td>0</td>\n",
       "      <td>0</td>\n",
       "      <td>0</td>\n",
       "      <td>0</td>\n",
       "      <td>0</td>\n",
       "      <td>0</td>\n",
       "      <td>0</td>\n",
       "      <td>0</td>\n",
       "      <td>0</td>\n",
       "    </tr>\n",
       "  </tbody>\n",
       "</table>\n",
       "<p>1 rows × 302 columns</p>\n",
       "</div>"
      ],
      "text/plain": [
       "                            F1        F0       f1     f2     f3     f4     f5  \\\n",
       "k36_ecoli_50X_600m_9  71171200  12460197  7841909  63089  11307  26317  51417   \n",
       "\n",
       "                         f6      f7      f8  ...   f291  f292  f293  f294  \\\n",
       "k36_ecoli_50X_600m_9  94252  144509  210710  ...      0     0     0     0   \n",
       "\n",
       "                      f295  f296  f297  f298  f299  f300  \n",
       "k36_ecoli_50X_600m_9     0     0     0     0     0     0  \n",
       "\n",
       "[1 rows x 302 columns]"
      ]
     },
     "execution_count": 15,
     "metadata": {},
     "output_type": "execute_result"
    }
   ],
   "source": [
    "ntcard_data = ntcard_data.T"
   ]
  },
  {
   "cell_type": "code",
   "execution_count": null,
   "metadata": {
    "collapsed": true
   },
   "outputs": [],
   "source": []
  },
  {
   "cell_type": "code",
   "execution_count": null,
   "metadata": {
    "collapsed": true
   },
   "outputs": [],
   "source": []
  }
 ],
 "metadata": {
  "kernelspec": {
   "display_name": "Python 3",
   "language": "python",
   "name": "python3"
  },
  "language_info": {
   "codemirror_mode": {
    "name": "ipython",
    "version": 3
   },
   "file_extension": ".py",
   "mimetype": "text/x-python",
   "name": "python",
   "nbconvert_exporter": "python",
   "pygments_lexer": "ipython3",
   "version": "3.6.0"
  }
 },
 "nbformat": 4,
 "nbformat_minor": 2
}
