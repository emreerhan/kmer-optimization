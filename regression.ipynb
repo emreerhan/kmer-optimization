{
 "cells": [
  {
   "cell_type": "code",
   "execution_count": 1,
   "metadata": {
    "collapsed": true
   },
   "outputs": [],
   "source": [
    "import pandas as pd\n",
    "import numpy as np\n",
    "import matplotlib.pyplot as plt\n",
    "import math\n",
    "from statsmodels.nonparametric.smoothers_lowess import lowess\n",
    "from scipy.stats import pearsonr\n",
    "import genome_model\n",
    "# import seaborn\n",
    "# seaborn.set()\n",
    "from importlib import reload\n",
    "reload(genome_model)\n",
    "simple_model = genome_model.simple_model"
   ]
  },
  {
   "cell_type": "code",
   "execution_count": 2,
   "metadata": {
    "collapsed": false
   },
   "outputs": [],
   "source": [
    "def upper_bound(threshold, read_length, coverage, number_of_reads):\n",
    "    return float(read_length*(1-(1/coverage)*math.log(number_of_reads/threshold)))\n",
    "\n",
    "upper_bound_vect = np.vectorize(upper_bound, excluded=['threshold', 'read_length'])"
   ]
  },
  {
   "cell_type": "code",
   "execution_count": 3,
   "metadata": {
    "collapsed": true
   },
   "outputs": [],
   "source": [
    "def upper_bound_unitigs(k, l, N, c):\n",
    "    return N * np.exp(-c*(1-k/l))\n",
    "upper_bound_unitigs_vect = np.vectorize(upper_bound_unitigs, excluded=['l'])"
   ]
  },
  {
   "cell_type": "code",
   "execution_count": 4,
   "metadata": {},
   "outputs": [],
   "source": [
    "all_data = pd.read_csv('model_fit_data.tsv', sep='\\t', index_col=0)\n",
    "all_data['num of reads'] = all_data['coverage'] * 309440/20\n",
    "all_data['Sample Num'] = all_data.index.map(lambda x: int(x.split('_')[len(x.strip('-contigs').split('_'))-1]))"
   ]
  },
  {
   "cell_type": "code",
   "execution_count": 5,
   "metadata": {},
   "outputs": [],
   "source": [
    "all_data['Upper Bound on Unitigs'] = all_data.apply(lambda row: upper_bound_unitigs(row['k'], 150, row['num of reads'], row['coverage']), axis=1)"
   ]
  },
  {
   "cell_type": "code",
   "execution_count": 6,
   "metadata": {},
   "outputs": [],
   "source": [
    "all_data['haploid_content'] = all_data['N1']/all_data['F1']"
   ]
  },
  {
   "cell_type": "code",
   "execution_count": 7,
   "metadata": {},
   "outputs": [],
   "source": [
    "SMALL_SIZE = 18\n",
    "MEDIUM_SIZE = 25\n",
    "BIGGER_SIZE = 30\n",
    "\n",
    "plt.rc('font', size=SMALL_SIZE)          # controls default text sizes\n",
    "plt.rc('axes', titlesize=SMALL_SIZE)     # fontsize of the axes title\n",
    "plt.rc('axes', labelsize=MEDIUM_SIZE)    # fontsize of the x and y labels\n",
    "plt.rc('xtick', labelsize=SMALL_SIZE)    # fontsize of the tick labels\n",
    "plt.rc('ytick', labelsize=SMALL_SIZE)    # fontsize of the tick labels\n",
    "plt.rc('legend', fontsize=SMALL_SIZE)    # legend fontsize\n",
    "plt.rc('figure', titlesize=BIGGER_SIZE)  # fontsize of the figure title"
   ]
  },
  {
   "cell_type": "markdown",
   "metadata": {},
   "source": [
    "# Regression "
   ]
  },
  {
   "cell_type": "code",
   "execution_count": 8,
   "metadata": {
    "collapsed": true
   },
   "outputs": [],
   "source": [
    "from sklearn.linear_model import LinearRegression\n",
    "from sklearn.svm import SVR\n",
    "from sklearn.ensemble import RandomForestRegressor"
   ]
  },
  {
   "cell_type": "code",
   "execution_count": 9,
   "metadata": {
    "collapsed": false
   },
   "outputs": [],
   "source": [
    "# all_data = all_data[(all_data['coverage'] == 20) &\n",
    "#                         (all_data['fragment_length'] == 200) &\n",
    "#                         (all_data['Sample Num'] <= 4)]"
   ]
  },
  {
   "cell_type": "code",
   "execution_count": null,
   "metadata": {},
   "outputs": [],
   "source": []
  },
  {
   "cell_type": "code",
   "execution_count": 10,
   "metadata": {
    "collapsed": false
   },
   "outputs": [],
   "source": [
    "X = all_data[['haploid_content', 'error_content', 'repeat_content', 'Upper Bound on Unitigs']]\n",
    "y = all_data['# contigs']"
   ]
  },
  {
   "cell_type": "code",
   "execution_count": 11,
   "metadata": {},
   "outputs": [
    {
     "data": {
      "text/plain": [
       "True"
      ]
     },
     "execution_count": 11,
     "metadata": {},
     "output_type": "execute_result"
    }
   ],
   "source": [
    "((all_data['Sample Num'] <=4) & (all_data['fragment_length'] == 200) & (all_data['coverage'] == 20)).any()"
   ]
  },
  {
   "cell_type": "code",
   "execution_count": 12,
   "metadata": {
    "collapsed": false
   },
   "outputs": [],
   "source": [
    "# Test train split\n",
    "# split = 3\n",
    "# X_train = X[all_data['Sample Num'] <= split]\n",
    "# X_test = X[all_data['Sample Num'] > split]\n",
    "# y_train = y[all_data['Sample Num'] <= split]\n",
    "# y_test = y[all_data['Sample Num'] > split]"
   ]
  },
  {
   "cell_type": "code",
   "execution_count": 13,
   "metadata": {
    "collapsed": false
   },
   "outputs": [
    {
     "data": {
      "text/plain": [
       "0.69621553975370642"
      ]
     },
     "execution_count": 13,
     "metadata": {},
     "output_type": "execute_result"
    }
   ],
   "source": [
    "lin_reg = LinearRegression()\n",
    "lin_reg.fit(X, y)\n",
    "y_hat = lin_reg.predict(X)\n",
    "lin_reg.score(X, y)"
   ]
  },
  {
   "cell_type": "code",
   "execution_count": 14,
   "metadata": {
    "collapsed": false
   },
   "outputs": [],
   "source": [
    "# plt.figure(figsize=(20,10))\n",
    "# plt.plot(partial_data['k'],  partial_data['Repeat Content'], 'b.')\n",
    "# plt.plot(partial_data['k'],  partial_data['N1'], 'g.')\n",
    "# plt.show()"
   ]
  },
  {
   "cell_type": "code",
   "execution_count": 15,
   "metadata": {
    "collapsed": false
   },
   "outputs": [],
   "source": [
    "# svm_reg = SVR(kernel='linear')\n",
    "# svm_reg.fit(X_train, y_train)\n",
    "# svm_reg.score(X_test, y_test)"
   ]
  },
  {
   "cell_type": "code",
   "execution_count": 16,
   "metadata": {
    "collapsed": false
   },
   "outputs": [
    {
     "data": {
      "text/plain": [
       "0.9851169658000587"
      ]
     },
     "execution_count": 16,
     "metadata": {},
     "output_type": "execute_result"
    }
   ],
   "source": [
    "rfr = RandomForestRegressor(n_estimators=10)\n",
    "rfr.fit(X, y)\n",
    "y_hat_rfr = rfr.predict(X)\n",
    "rfr.score(X, y)"
   ]
  },
  {
   "cell_type": "code",
   "execution_count": 17,
   "metadata": {},
   "outputs": [
    {
     "name": "stdout",
     "output_type": "stream",
     "text": [
      "0.696215539754\n"
     ]
    },
    {
     "data": {
      "text/plain": [
       "(0.83439531383733589, 8.8763348429613704e-71)"
      ]
     },
     "execution_count": 17,
     "metadata": {},
     "output_type": "execute_result"
    }
   ],
   "source": [
    "lin_reg = LinearRegression()\n",
    "lin_reg.fit(X, y)\n",
    "y_hat = lin_reg.predict(X)\n",
    "print(lin_reg.score(X, y))\n",
    "pearsonr(lin_reg.predict(X), y)"
   ]
  },
  {
   "cell_type": "code",
   "execution_count": 30,
   "metadata": {},
   "outputs": [
    {
     "data": {
      "text/plain": [
       "array([  4.22166528e+04,  -6.62440299e+01,   3.80340746e+04,\n",
       "         1.96758303e-01])"
      ]
     },
     "execution_count": 30,
     "metadata": {},
     "output_type": "execute_result"
    }
   ],
   "source": [
    "lin_reg.coef_"
   ]
  },
  {
   "cell_type": "code",
   "execution_count": 18,
   "metadata": {
    "collapsed": false
   },
   "outputs": [
    {
     "data": {
      "image/png": "[encoded data removed]",
      "text/plain": [
       "<matplotlib.figure.Figure at 0x113eeef28>"
      ]
     },
     "metadata": {},
     "output_type": "display_data"
    }
   ],
   "source": [
    "# Show for one sample\n",
    "# sample = \"ecoli_20X_4\n",
    "# plt.figure(figsize=(20,10))\n",
    "fig, ax1 = plt.subplots()\n",
    "\n",
    "names = [\"k{}_ecoli_20X_1\".format(i) for i in range(36, 127, 6)] # + [\"k{}_ecoli_20X_noerr_2\".format(i) for i in range(36, 127, 6)] + [\"k{}_ecoli_20X_noerr_3\".format(i) for i in range(36, 127, 6)] + [\"k{}_ecoli_20X_noerr_4\".format(i) for i in range(36, 127, 6)]\n",
    "repeat_content = all_data.loc[names, 'repeat_content']\n",
    "ng50 = all_data.loc[names, 'NG50']\n",
    "num_contigs = all_data.loc[names, '# contigs (>= 0 bp)']\n",
    "x = all_data.loc[names, 'k']\n",
    "\n",
    "ax1.plot(x, repeat_content, 'b-')\n",
    "ax1.set_ylabel('Repeat content (%)', color='b')\n",
    "ax1.set_xlabel('k-mer size', color='black')\n",
    "ax2 = ax1.twinx()\n",
    "#ax1.plot(x, ng50, 'b.')\n",
    "#ax1.set_ylabel('NG50', color='b')\n",
    "#ax2 = ax1.twinx()\n",
    "\n",
    "ax2.plot(x, num_contigs, 'g-')\n",
    "ax2.set_ylabel('# contigs', color='g')\n",
    "\n",
    "\n",
    "plt.show()"
   ]
  },
  {
   "cell_type": "code",
   "execution_count": 29,
   "metadata": {
    "collapsed": false
   },
   "outputs": [
    {
     "data": {
      "image/png": "[encoded data removed]",
      "text/plain": [
       "<matplotlib.figure.Figure at 0x11704e6a0>"
      ]
     },
     "metadata": {},
     "output_type": "display_data"
    }
   ],
   "source": [
    "plt.figure(figsize=(20,10))\n",
    "\n",
    "x = all_data.loc[names, 'k']\n",
    "num_contigs = all_data.loc[names, '# contigs']\n",
    "pred = rfr.predict(all_data.loc[names, ['N1', 'error_content', 'repeat_content', 'Upper Bound on Unitigs']])# [mask]\n",
    "\n",
    "# filtered_exp = lowess(num_contigs, x, frac=0.5)\n",
    "# filtered_pred = lowess(pred, x, frac=0.5)\n",
    "\n",
    "\n",
    "# plt.plot(filtered[:, 0], filtered_exp[:, 1], 'b--', linewidth=3, label='LOWESS over exp. contigs')\n",
    "# plt.plot(filtered_pred[:, 0], filtered_pred[:, 1], 'r--', linewidth=3, label='LOWESS over pred. contigs')\n",
    "plt.plot(x, num_contigs, 'bo', label='Experimental number of contigs')\n",
    "plt.plot(x, pred, 'ro', label='Predicted number of contigs')\n",
    "plt.legend()\n",
    "plt.xlabel('Size of overlap (k)')\n",
    "plt.ylabel('Number of contigs')\n",
    "\n",
    "# plt.savefig('/Users/emreerhan/Desktop/thesis/model_eval.png')\n",
    "plt.show()"
   ]
  },
  {
   "cell_type": "code",
   "execution_count": 20,
   "metadata": {
    "collapsed": false
   },
   "outputs": [
    {
     "data": {
      "text/plain": [
       "k36_ecoli_20X_1      503\n",
       "k42_ecoli_20X_1      448\n",
       "k48_ecoli_20X_1      463\n",
       "k54_ecoli_20X_1      434\n",
       "k60_ecoli_20X_1      418\n",
       "k66_ecoli_20X_1      370\n",
       "k72_ecoli_20X_1      368\n",
       "k78_ecoli_20X_1      444\n",
       "k84_ecoli_20X_1      632\n",
       "k90_ecoli_20X_1      797\n",
       "k96_ecoli_20X_1     1122\n",
       "k102_ecoli_20X_1    1586\n",
       "k108_ecoli_20X_1    1525\n",
       "k114_ecoli_20X_1    2564\n",
       "k120_ecoli_20X_1    3205\n",
       "k126_ecoli_20X_1    1592\n",
       "Name: # contigs, dtype: int64"
      ]
     },
     "execution_count": 20,
     "metadata": {},
     "output_type": "execute_result"
    }
   ],
   "source": [
    "num_contigs"
   ]
  },
  {
   "cell_type": "code",
   "execution_count": 32,
   "metadata": {
    "collapsed": true
   },
   "outputs": [],
   "source": [
    "xdata = np.arange(60, 140, 0.25)\n",
    "ydata1 = upper_bound_unitigs_vect(xdata, 150, 309440, 20) + 1\n",
    "ydata2 = upper_bound_unitigs_vect(xdata, 150, 773600, 50) + 1\n",
    "ydata3 = upper_bound_unitigs_vect(xdata, 150, 1547200, 100) + 1\n",
    "plt.figure('Expected number of contigs for 3 sequencing experiments on E. coli', figsize=(20,10))\n",
    "plt.ylabel('log(Expected Num. Contigs))')\n",
    "plt.xlabel('k-mer size')\n",
    "plt.plot(xdata, np.log(ydata1), 'b-', label='20X coverage')\n",
    "plt.plot(xdata, np.log(ydata2), 'r-', label='50X coverage')\n",
    "plt.plot(xdata, np.log(ydata3), 'g-', label='100X coverage')\n",
    "plt.legend()\n",
    "# plt.show()\n",
    "plt.savefig('expected_num_contigs.png')"
   ]
  },
  {
   "cell_type": "markdown",
   "metadata": {},
   "source": [
    "# Human"
   ]
  },
  {
   "cell_type": "code",
   "execution_count": 22,
   "metadata": {},
   "outputs": [],
   "source": [
    "human_data = pd.read_csv('human_model_fit.tsv', sep='\\t', index_col=0)\n",
    "human_data['Upper Bound on Unitigs'] = human_data.apply(lambda row: upper_bound_unitigs(row['k'], 150, 800000000, 40), axis=1)"
   ]
  },
  {
   "cell_type": "code",
   "execution_count": 23,
   "metadata": {},
   "outputs": [],
   "source": [
    "human_data['haploid_content'] = human_data['N1']/human_data['F0']"
   ]
  },
  {
   "cell_type": "code",
   "execution_count": 28,
   "metadata": {},
   "outputs": [
    {
     "name": "stdout",
     "output_type": "stream",
     "text": [
      "(-0.091788946695513157, 0.82885995813375568)\n"
     ]
    },
    {
     "data": {
      "text/plain": [
       "-3.6225970569537997"
      ]
     },
     "execution_count": 28,
     "metadata": {},
     "output_type": "execute_result"
    }
   ],
   "source": [
    "X = human_data[['haploid_content', 'error_content', 'repeat_content', 'Upper Bound on Unitigs']]\n",
    "y = human_data['# contigs']\n",
    "print(pearsonr(lin_reg.predict(X), y))\n",
    "lin_reg.score(X, y)"
   ]
  },
  {
   "cell_type": "code",
   "execution_count": 25,
   "metadata": {},
   "outputs": [
    {
     "data": {
      "text/plain": [
       "0    1002028\n",
       "1      13428\n",
       "2    1099322\n",
       "3    1024664\n",
       "4     815016\n",
       "5     639411\n",
       "6     458079\n",
       "7     367405\n",
       "Name: # contigs, dtype: int64"
      ]
     },
     "execution_count": 25,
     "metadata": {},
     "output_type": "execute_result"
    }
   ],
   "source": [
    "human_data['# contigs']"
   ]
  },
  {
   "cell_type": "code",
   "execution_count": 26,
   "metadata": {},
   "outputs": [
    {
     "data": {
      "text/plain": [
       "array([ 2611.93080571,  1483.19468676,   977.97888688,   856.20434552,\n",
       "         925.05022418,  1030.98411271,  1295.55047118,  1674.9030423 ])"
      ]
     },
     "execution_count": 26,
     "metadata": {},
     "output_type": "execute_result"
    }
   ],
   "source": [
    "lin_reg.predict(X)"
   ]
  },
  {
   "cell_type": "code",
   "execution_count": 40,
   "metadata": {},
   "outputs": [
    {
     "data": {
      "text/html": [
       "<div>\n",
       "<table border=\"1\" class=\"dataframe\">\n",
       "  <thead>\n",
       "    <tr style=\"text-align: right;\">\n",
       "      <th></th>\n",
       "      <th>k</th>\n",
       "      <th>F0</th>\n",
       "    </tr>\n",
       "  </thead>\n",
       "  <tbody>\n",
       "    <tr>\n",
       "      <th>k30_ecoli_200X_4</th>\n",
       "      <td>30</td>\n",
       "      <td>70585124</td>\n",
       "    </tr>\n",
       "    <tr>\n",
       "      <th>k30_ecoli_100X_3</th>\n",
       "      <td>30</td>\n",
       "      <td>38778709</td>\n",
       "    </tr>\n",
       "    <tr>\n",
       "      <th>k30_ecoli_20X_4</th>\n",
       "      <td>30</td>\n",
       "      <td>11674109</td>\n",
       "    </tr>\n",
       "    <tr>\n",
       "      <th>k30_ecoli_100X_1</th>\n",
       "      <td>30</td>\n",
       "      <td>38826753</td>\n",
       "    </tr>\n",
       "    <tr>\n",
       "      <th>k30_ecoli_20X_2</th>\n",
       "      <td>30</td>\n",
       "      <td>11670330</td>\n",
       "    </tr>\n",
       "    <tr>\n",
       "      <th>k30_ecoli_20X_1</th>\n",
       "      <td>30</td>\n",
       "      <td>11593927</td>\n",
       "    </tr>\n",
       "    <tr>\n",
       "      <th>k30_ecoli_100X_4</th>\n",
       "      <td>30</td>\n",
       "      <td>38886151</td>\n",
       "    </tr>\n",
       "    <tr>\n",
       "      <th>k30_ecoli_200X_1</th>\n",
       "      <td>30</td>\n",
       "      <td>70778944</td>\n",
       "    </tr>\n",
       "    <tr>\n",
       "      <th>k30_ecoli_20X_3</th>\n",
       "      <td>30</td>\n",
       "      <td>11661941</td>\n",
       "    </tr>\n",
       "    <tr>\n",
       "      <th>k30_ecoli_100X_2</th>\n",
       "      <td>30</td>\n",
       "      <td>38794937</td>\n",
       "    </tr>\n",
       "    <tr>\n",
       "      <th>k30_ecoli_200X_2</th>\n",
       "      <td>30</td>\n",
       "      <td>70523238</td>\n",
       "    </tr>\n",
       "    <tr>\n",
       "      <th>k30_ecoli_200X_3</th>\n",
       "      <td>30</td>\n",
       "      <td>70693023</td>\n",
       "    </tr>\n",
       "    <tr>\n",
       "      <th>k36_ecoli_50X_1</th>\n",
       "      <td>36</td>\n",
       "      <td>24048760</td>\n",
       "    </tr>\n",
       "    <tr>\n",
       "      <th>k36_ecoli_100X_2</th>\n",
       "      <td>36</td>\n",
       "      <td>42931035</td>\n",
       "    </tr>\n",
       "    <tr>\n",
       "      <th>k36_ecoli_200X_1</th>\n",
       "      <td>36</td>\n",
       "      <td>78813271</td>\n",
       "    </tr>\n",
       "    <tr>\n",
       "      <th>k36_ecoli_20X_3</th>\n",
       "      <td>36</td>\n",
       "      <td>12495935</td>\n",
       "    </tr>\n",
       "    <tr>\n",
       "      <th>k36_ecoli_100X_4</th>\n",
       "      <td>36</td>\n",
       "      <td>42917947</td>\n",
       "    </tr>\n",
       "    <tr>\n",
       "      <th>k36_ecoli_100X_1</th>\n",
       "      <td>36</td>\n",
       "      <td>42939248</td>\n",
       "    </tr>\n",
       "    <tr>\n",
       "      <th>k36_ecoli_100X_3</th>\n",
       "      <td>36</td>\n",
       "      <td>42870725</td>\n",
       "    </tr>\n",
       "    <tr>\n",
       "      <th>k36_ecoli_200X_4</th>\n",
       "      <td>36</td>\n",
       "      <td>78837638</td>\n",
       "    </tr>\n",
       "    <tr>\n",
       "      <th>k36_ecoli_200X_2</th>\n",
       "      <td>36</td>\n",
       "      <td>78703778</td>\n",
       "    </tr>\n",
       "    <tr>\n",
       "      <th>k36_ecoli_20X_2</th>\n",
       "      <td>36</td>\n",
       "      <td>12495487</td>\n",
       "    </tr>\n",
       "    <tr>\n",
       "      <th>k36_ecoli_50X_4</th>\n",
       "      <td>36</td>\n",
       "      <td>24123809</td>\n",
       "    </tr>\n",
       "    <tr>\n",
       "      <th>k36_ecoli_50X_2</th>\n",
       "      <td>36</td>\n",
       "      <td>24148355</td>\n",
       "    </tr>\n",
       "    <tr>\n",
       "      <th>k36_ecoli_200X_3</th>\n",
       "      <td>36</td>\n",
       "      <td>78784017</td>\n",
       "    </tr>\n",
       "    <tr>\n",
       "      <th>k36_ecoli_50X_3</th>\n",
       "      <td>36</td>\n",
       "      <td>24125860</td>\n",
       "    </tr>\n",
       "    <tr>\n",
       "      <th>k36_ecoli_20X_1</th>\n",
       "      <td>36</td>\n",
       "      <td>12460197</td>\n",
       "    </tr>\n",
       "    <tr>\n",
       "      <th>k36_ecoli_20X_4</th>\n",
       "      <td>36</td>\n",
       "      <td>12480115</td>\n",
       "    </tr>\n",
       "    <tr>\n",
       "      <th>k42_ecoli_100X_4</th>\n",
       "      <td>42</td>\n",
       "      <td>46364587</td>\n",
       "    </tr>\n",
       "    <tr>\n",
       "      <th>k42_ecoli_50X_4</th>\n",
       "      <td>42</td>\n",
       "      <td>25817533</td>\n",
       "    </tr>\n",
       "    <tr>\n",
       "      <th>...</th>\n",
       "      <td>...</td>\n",
       "      <td>...</td>\n",
       "    </tr>\n",
       "    <tr>\n",
       "      <th>k120_ecoli_200X_4</th>\n",
       "      <td>120</td>\n",
       "      <td>65265573</td>\n",
       "    </tr>\n",
       "    <tr>\n",
       "      <th>k120_ecoli_50X_1</th>\n",
       "      <td>120</td>\n",
       "      <td>19927200</td>\n",
       "    </tr>\n",
       "    <tr>\n",
       "      <th>k120_ecoli_100X_3</th>\n",
       "      <td>120</td>\n",
       "      <td>35102973</td>\n",
       "    </tr>\n",
       "    <tr>\n",
       "      <th>k120_ecoli_50X_2</th>\n",
       "      <td>120</td>\n",
       "      <td>19924509</td>\n",
       "    </tr>\n",
       "    <tr>\n",
       "      <th>k120_ecoli_200X_3</th>\n",
       "      <td>120</td>\n",
       "      <td>65271998</td>\n",
       "    </tr>\n",
       "    <tr>\n",
       "      <th>k120_ecoli_100X_4</th>\n",
       "      <td>120</td>\n",
       "      <td>35147609</td>\n",
       "    </tr>\n",
       "    <tr>\n",
       "      <th>k120_ecoli_20X_2</th>\n",
       "      <td>120</td>\n",
       "      <td>10480316</td>\n",
       "    </tr>\n",
       "    <tr>\n",
       "      <th>k120_ecoli_50X_3</th>\n",
       "      <td>120</td>\n",
       "      <td>19910733</td>\n",
       "    </tr>\n",
       "    <tr>\n",
       "      <th>k120_ecoli_50X_4</th>\n",
       "      <td>120</td>\n",
       "      <td>19903300</td>\n",
       "    </tr>\n",
       "    <tr>\n",
       "      <th>k120_ecoli_100X_2</th>\n",
       "      <td>120</td>\n",
       "      <td>35179995</td>\n",
       "    </tr>\n",
       "    <tr>\n",
       "      <th>k120_ecoli_20X_3</th>\n",
       "      <td>120</td>\n",
       "      <td>10490049</td>\n",
       "    </tr>\n",
       "    <tr>\n",
       "      <th>k120_ecoli_200X_2</th>\n",
       "      <td>120</td>\n",
       "      <td>65182892</td>\n",
       "    </tr>\n",
       "    <tr>\n",
       "      <th>k120_ecoli_200X_1</th>\n",
       "      <td>120</td>\n",
       "      <td>65365408</td>\n",
       "    </tr>\n",
       "    <tr>\n",
       "      <th>k120_ecoli_20X_4</th>\n",
       "      <td>120</td>\n",
       "      <td>10494788</td>\n",
       "    </tr>\n",
       "    <tr>\n",
       "      <th>k126_ecoli_200X_3</th>\n",
       "      <td>126</td>\n",
       "      <td>56026552</td>\n",
       "    </tr>\n",
       "    <tr>\n",
       "      <th>k126_ecoli_50X_3</th>\n",
       "      <td>126</td>\n",
       "      <td>17529323</td>\n",
       "    </tr>\n",
       "    <tr>\n",
       "      <th>k126_ecoli_20X_1</th>\n",
       "      <td>126</td>\n",
       "      <td>9308633</td>\n",
       "    </tr>\n",
       "    <tr>\n",
       "      <th>k126_ecoli_20X_3</th>\n",
       "      <td>126</td>\n",
       "      <td>9301141</td>\n",
       "    </tr>\n",
       "    <tr>\n",
       "      <th>k126_ecoli_200X_2</th>\n",
       "      <td>126</td>\n",
       "      <td>55997851</td>\n",
       "    </tr>\n",
       "    <tr>\n",
       "      <th>k126_ecoli_200X_1</th>\n",
       "      <td>126</td>\n",
       "      <td>56018719</td>\n",
       "    </tr>\n",
       "    <tr>\n",
       "      <th>k126_ecoli_200X_4</th>\n",
       "      <td>126</td>\n",
       "      <td>56110859</td>\n",
       "    </tr>\n",
       "    <tr>\n",
       "      <th>k126_ecoli_100X_2</th>\n",
       "      <td>126</td>\n",
       "      <td>30504826</td>\n",
       "    </tr>\n",
       "    <tr>\n",
       "      <th>k126_ecoli_50X_2</th>\n",
       "      <td>126</td>\n",
       "      <td>17646371</td>\n",
       "    </tr>\n",
       "    <tr>\n",
       "      <th>k126_ecoli_50X_4</th>\n",
       "      <td>126</td>\n",
       "      <td>17561356</td>\n",
       "    </tr>\n",
       "    <tr>\n",
       "      <th>k126_ecoli_100X_3</th>\n",
       "      <td>126</td>\n",
       "      <td>30433852</td>\n",
       "    </tr>\n",
       "    <tr>\n",
       "      <th>k126_ecoli_20X_2</th>\n",
       "      <td>126</td>\n",
       "      <td>9307929</td>\n",
       "    </tr>\n",
       "    <tr>\n",
       "      <th>k126_ecoli_100X_1</th>\n",
       "      <td>126</td>\n",
       "      <td>30578044</td>\n",
       "    </tr>\n",
       "    <tr>\n",
       "      <th>k126_ecoli_100X_4</th>\n",
       "      <td>126</td>\n",
       "      <td>30544705</td>\n",
       "    </tr>\n",
       "    <tr>\n",
       "      <th>k126_ecoli_50X_1</th>\n",
       "      <td>126</td>\n",
       "      <td>17598834</td>\n",
       "    </tr>\n",
       "    <tr>\n",
       "      <th>k126_ecoli_20X_4</th>\n",
       "      <td>126</td>\n",
       "      <td>9310682</td>\n",
       "    </tr>\n",
       "  </tbody>\n",
       "</table>\n",
       "<p>268 rows × 2 columns</p>\n",
       "</div>"
      ],
      "text/plain": [
       "                     k        F0\n",
       "k30_ecoli_200X_4    30  70585124\n",
       "k30_ecoli_100X_3    30  38778709\n",
       "k30_ecoli_20X_4     30  11674109\n",
       "k30_ecoli_100X_1    30  38826753\n",
       "k30_ecoli_20X_2     30  11670330\n",
       "k30_ecoli_20X_1     30  11593927\n",
       "k30_ecoli_100X_4    30  38886151\n",
       "k30_ecoli_200X_1    30  70778944\n",
       "k30_ecoli_20X_3     30  11661941\n",
       "k30_ecoli_100X_2    30  38794937\n",
       "k30_ecoli_200X_2    30  70523238\n",
       "k30_ecoli_200X_3    30  70693023\n",
       "k36_ecoli_50X_1     36  24048760\n",
       "k36_ecoli_100X_2    36  42931035\n",
       "k36_ecoli_200X_1    36  78813271\n",
       "k36_ecoli_20X_3     36  12495935\n",
       "k36_ecoli_100X_4    36  42917947\n",
       "k36_ecoli_100X_1    36  42939248\n",
       "k36_ecoli_100X_3    36  42870725\n",
       "k36_ecoli_200X_4    36  78837638\n",
       "k36_ecoli_200X_2    36  78703778\n",
       "k36_ecoli_20X_2     36  12495487\n",
       "k36_ecoli_50X_4     36  24123809\n",
       "k36_ecoli_50X_2     36  24148355\n",
       "k36_ecoli_200X_3    36  78784017\n",
       "k36_ecoli_50X_3     36  24125860\n",
       "k36_ecoli_20X_1     36  12460197\n",
       "k36_ecoli_20X_4     36  12480115\n",
       "k42_ecoli_100X_4    42  46364587\n",
       "k42_ecoli_50X_4     42  25817533\n",
       "...                ...       ...\n",
       "k120_ecoli_200X_4  120  65265573\n",
       "k120_ecoli_50X_1   120  19927200\n",
       "k120_ecoli_100X_3  120  35102973\n",
       "k120_ecoli_50X_2   120  19924509\n",
       "k120_ecoli_200X_3  120  65271998\n",
       "k120_ecoli_100X_4  120  35147609\n",
       "k120_ecoli_20X_2   120  10480316\n",
       "k120_ecoli_50X_3   120  19910733\n",
       "k120_ecoli_50X_4   120  19903300\n",
       "k120_ecoli_100X_2  120  35179995\n",
       "k120_ecoli_20X_3   120  10490049\n",
       "k120_ecoli_200X_2  120  65182892\n",
       "k120_ecoli_200X_1  120  65365408\n",
       "k120_ecoli_20X_4   120  10494788\n",
       "k126_ecoli_200X_3  126  56026552\n",
       "k126_ecoli_50X_3   126  17529323\n",
       "k126_ecoli_20X_1   126   9308633\n",
       "k126_ecoli_20X_3   126   9301141\n",
       "k126_ecoli_200X_2  126  55997851\n",
       "k126_ecoli_200X_1  126  56018719\n",
       "k126_ecoli_200X_4  126  56110859\n",
       "k126_ecoli_100X_2  126  30504826\n",
       "k126_ecoli_50X_2   126  17646371\n",
       "k126_ecoli_50X_4   126  17561356\n",
       "k126_ecoli_100X_3  126  30433852\n",
       "k126_ecoli_20X_2   126   9307929\n",
       "k126_ecoli_100X_1  126  30578044\n",
       "k126_ecoli_100X_4  126  30544705\n",
       "k126_ecoli_50X_1   126  17598834\n",
       "k126_ecoli_20X_4   126   9310682\n",
       "\n",
       "[268 rows x 2 columns]"
      ]
     },
     "execution_count": 40,
     "metadata": {},
     "output_type": "execute_result"
    }
   ],
   "source": [
    "all_data[['k', 'F0']].sort_values('k')"
   ]
  },
  {
   "cell_type": "code",
   "execution_count": null,
   "metadata": {},
   "outputs": [],
   "source": []
  }
 ],
 "metadata": {
  "kernelspec": {
   "display_name": "Python 3",
   "language": "python",
   "name": "python3"
  },
  "language_info": {
   "codemirror_mode": {
    "name": "ipython",
    "version": 3
   },
   "file_extension": ".py",
   "mimetype": "text/x-python",
   "name": "python",
   "nbconvert_exporter": "python",
   "pygments_lexer": "ipython3",
   "version": "3.6.0"
  }
 },
 "nbformat": 4,
 "nbformat_minor": 2
}
